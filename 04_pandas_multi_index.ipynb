{
 "cells": [
  {
   "cell_type": "markdown",
   "metadata": {},
   "source": [
    "# Pandas Hierarchical Indexing 层级索引"
   ]
  },
  {
   "cell_type": "code",
   "execution_count": 1,
   "metadata": {
    "collapsed": true
   },
   "outputs": [],
   "source": [
    "import pandas as pd\n",
    "import numpy as np"
   ]
  },
  {
   "cell_type": "code",
   "execution_count": 2,
   "metadata": {},
   "outputs": [
    {
     "name": "stdout",
     "output_type": "stream",
     "text": [
      "a  0   -0.451798\n",
      "   1    1.319968\n",
      "   2   -0.809814\n",
      "b  0   -0.408334\n",
      "   1   -1.193267\n",
      "   2   -1.261801\n",
      "c  0    0.079974\n",
      "   1   -0.924328\n",
      "   2   -0.102039\n",
      "d  0   -0.848670\n",
      "   1    0.157286\n",
      "   2   -0.691828\n",
      "dtype: float64\n"
     ]
    }
   ],
   "source": [
    "ser_obj = pd.Series(np.random.randn(12),\n",
    "                    index=[['a', 'a', 'a', 'b', 'b', 'b', 'c', 'c', 'c', 'd', 'd', 'd'],\n",
    "                           [0, 1, 2, 0, 1, 2, 0, 1, 2, 0, 1, 2]])\n",
    "print(ser_obj)"
   ]
  },
  {
   "cell_type": "markdown",
   "metadata": {},
   "source": [
    "* MultiIndex索引对象"
   ]
  },
  {
   "cell_type": "code",
   "execution_count": 3,
   "metadata": {},
   "outputs": [
    {
     "name": "stdout",
     "output_type": "stream",
     "text": [
      "<class 'pandas.core.indexes.multi.MultiIndex'>\n",
      "MultiIndex(levels=[['a', 'b', 'c', 'd'], [0, 1, 2]],\n",
      "           labels=[[0, 0, 0, 1, 1, 1, 2, 2, 2, 3, 3, 3], [0, 1, 2, 0, 1, 2, 0, 1, 2, 0, 1, 2]])\n"
     ]
    }
   ],
   "source": [
    "print(type(ser_obj.index))\n",
    "print(ser_obj.index)"
   ]
  },
  {
   "cell_type": "markdown",
   "metadata": {},
   "source": [
    "* 选取子集"
   ]
  },
  {
   "cell_type": "code",
   "execution_count": 4,
   "metadata": {},
   "outputs": [
    {
     "name": "stdout",
     "output_type": "stream",
     "text": [
      "0    0.079974\n",
      "1   -0.924328\n",
      "2   -0.102039\n",
      "dtype: float64\n"
     ]
    }
   ],
   "source": [
    "# 外层选取\n",
    "print(ser_obj['c'])"
   ]
  },
  {
   "cell_type": "code",
   "execution_count": 5,
   "metadata": {},
   "outputs": [
    {
     "name": "stdout",
     "output_type": "stream",
     "text": [
      "a   -0.809814\n",
      "b   -1.261801\n",
      "c   -0.102039\n",
      "d   -0.691828\n",
      "dtype: float64\n"
     ]
    }
   ],
   "source": [
    "# 内层选取\n",
    "print(ser_obj[:, 2])"
   ]
  },
  {
   "cell_type": "markdown",
   "metadata": {},
   "source": [
    "* 交换分层顺序"
   ]
  },
  {
   "cell_type": "code",
   "execution_count": 6,
   "metadata": {},
   "outputs": [
    {
     "name": "stdout",
     "output_type": "stream",
     "text": [
      "0  a   -0.451798\n",
      "1  a    1.319968\n",
      "2  a   -0.809814\n",
      "0  b   -0.408334\n",
      "1  b   -1.193267\n",
      "2  b   -1.261801\n",
      "0  c    0.079974\n",
      "1  c   -0.924328\n",
      "2  c   -0.102039\n",
      "0  d   -0.848670\n",
      "1  d    0.157286\n",
      "2  d   -0.691828\n",
      "dtype: float64\n"
     ]
    }
   ],
   "source": [
    "print(ser_obj.swaplevel())"
   ]
  },
  {
   "cell_type": "markdown",
   "metadata": {},
   "source": [
    "* 交换并排序分层"
   ]
  },
  {
   "cell_type": "code",
   "execution_count": 7,
   "metadata": {},
   "outputs": [
    {
     "name": "stdout",
     "output_type": "stream",
     "text": [
      "0  a   -0.451798\n",
      "   b   -0.408334\n",
      "   c    0.079974\n",
      "   d   -0.848670\n",
      "1  a    1.319968\n",
      "   b   -1.193267\n",
      "   c   -0.924328\n",
      "   d    0.157286\n",
      "2  a   -0.809814\n",
      "   b   -1.261801\n",
      "   c   -0.102039\n",
      "   d   -0.691828\n",
      "dtype: float64\n"
     ]
    },
    {
     "name": "stderr",
     "output_type": "stream",
     "text": [
      "/Users/freena/anaconda/lib/python3.6/site-packages/ipykernel_launcher.py:1: FutureWarning: sortlevel is deprecated, use sort_index(level=...)\n",
      "  \"\"\"Entry point for launching an IPython kernel.\n"
     ]
    }
   ],
   "source": [
    "print(ser_obj.swaplevel().sortlevel())"
   ]
  }
 ],
 "metadata": {
  "anaconda-cloud": {},
  "kernelspec": {
   "display_name": "Python 3",
   "language": "python",
   "name": "python3"
  },
  "language_info": {
   "codemirror_mode": {
    "name": "ipython",
    "version": 3
   },
   "file_extension": ".py",
   "mimetype": "text/x-python",
   "name": "python",
   "nbconvert_exporter": "python",
   "pygments_lexer": "ipython3",
   "version": "3.6.2"
  }
 },
 "nbformat": 4,
 "nbformat_minor": 1
}
